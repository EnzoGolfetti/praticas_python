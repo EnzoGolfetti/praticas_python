{
  "nbformat": 4,
  "nbformat_minor": 0,
  "metadata": {
    "colab": {
      "name": "chatbot_prototype.ipynb",
      "provenance": [],
      "authorship_tag": "ABX9TyOHpEsJoFMce6Hv7l/robLN",
      "include_colab_link": true
    },
    "kernelspec": {
      "name": "python3",
      "display_name": "Python 3"
    },
    "language_info": {
      "name": "python"
    }
  },
  "cells": [
    {
      "cell_type": "markdown",
      "metadata": {
        "id": "view-in-github",
        "colab_type": "text"
      },
      "source": [
        "<a href=\"https://colab.research.google.com/github/EnzoGolfetti/praticas_python/blob/main/chatbot_prototype.ipynb\" target=\"_parent\"><img src=\"https://colab.research.google.com/assets/colab-badge.svg\" alt=\"Open In Colab\"/></a>"
      ]
    },
    {
      "cell_type": "markdown",
      "metadata": {
        "id": "s1lNPlaz7W9I"
      },
      "source": [
        "# ChatBot simples com ChatterBot Library\n",
        "\n"
      ]
    },
    {
      "cell_type": "code",
      "metadata": {
        "colab": {
          "base_uri": "https://localhost:8080/"
        },
        "id": "t8QsPoMi6Qj6",
        "outputId": "bad7914f-9380-4591-96ed-126a595f0802"
      },
      "source": [
        "#instalação das bibliotecas que precisaremos\n",
        "!pip install ChatterBot\n",
        "!pip install ChatterBot-corpus\n",
        "!pip install awscli==1.11.18"
      ],
      "execution_count": 1,
      "outputs": [
        {
          "output_type": "stream",
          "text": [
            "Collecting ChatterBot\n",
            "\u001b[?25l  Downloading https://files.pythonhosted.org/packages/7c/21/85c2b114bd9dfabdd46ba58fc4519acdaed45d8c70898d40079e37a45e67/ChatterBot-1.0.8-py2.py3-none-any.whl (63kB)\n",
            "\u001b[K     |████████████████████████████████| 71kB 2.6MB/s \n",
            "\u001b[?25hRequirement already satisfied: pytz in /usr/local/lib/python3.7/dist-packages (from ChatterBot) (2018.9)\n",
            "Requirement already satisfied: python-dateutil<2.9,>=2.8 in /usr/local/lib/python3.7/dist-packages (from ChatterBot) (2.8.1)\n",
            "Collecting sqlalchemy<1.4,>=1.3\n",
            "\u001b[?25l  Downloading https://files.pythonhosted.org/packages/31/44/a86070dda790ce94cd7d9fb9281cd614c7d30850ed774ace9a84d0d5d491/SQLAlchemy-1.3.24-cp37-cp37m-manylinux2010_x86_64.whl (1.3MB)\n",
            "\u001b[K     |████████████████████████████████| 1.3MB 5.0MB/s \n",
            "\u001b[?25hCollecting mathparse<0.2,>=0.1\n",
            "  Downloading https://files.pythonhosted.org/packages/c3/e5/4910fb85950cb960fcf3f5aabe1c8e55f5c9201788a1c1302b570a7e1f84/mathparse-0.1.2-py3-none-any.whl\n",
            "Requirement already satisfied: six>=1.5 in /usr/local/lib/python3.7/dist-packages (from python-dateutil<2.9,>=2.8->ChatterBot) (1.15.0)\n",
            "Installing collected packages: sqlalchemy, mathparse, ChatterBot\n",
            "  Found existing installation: SQLAlchemy 1.4.14\n",
            "    Uninstalling SQLAlchemy-1.4.14:\n",
            "      Successfully uninstalled SQLAlchemy-1.4.14\n",
            "Successfully installed ChatterBot-1.0.8 mathparse-0.1.2 sqlalchemy-1.3.24\n",
            "Collecting ChatterBot-corpus\n",
            "\u001b[?25l  Downloading https://files.pythonhosted.org/packages/ed/19/f8b41daf36fe4b0f43e283a820362ffdb2c1128600ab4ee187e84262fa4d/chatterbot_corpus-1.2.0-py2.py3-none-any.whl (117kB)\n",
            "\u001b[K     |████████████████████████████████| 122kB 3.7MB/s \n",
            "\u001b[?25hRequirement already satisfied: PyYAML<4.0,>=3.12 in /usr/local/lib/python3.7/dist-packages (from ChatterBot-corpus) (3.13)\n",
            "Installing collected packages: ChatterBot-corpus\n",
            "Successfully installed ChatterBot-corpus-1.2.0\n",
            "Collecting awscli==1.11.18\n",
            "\u001b[?25l  Downloading https://files.pythonhosted.org/packages/8d/40/fe038dbca1be0fdaf4b873f92acb8f10bf7e0d774bff2c6f4e6857ce4137/awscli-1.11.18-py2.py3-none-any.whl (1.0MB)\n",
            "\u001b[K     |████████████████████████████████| 1.0MB 3.9MB/s \n",
            "\u001b[?25hRequirement already satisfied: docutils>=0.10 in /usr/local/lib/python3.7/dist-packages (from awscli==1.11.18) (0.17.1)\n",
            "Collecting colorama<=0.3.7,>=0.2.5\n",
            "  Downloading https://files.pythonhosted.org/packages/b7/8e/ddb32ddaabd431813e180ca224e844bab8ad42fbb47ee07553f0ec44cd86/colorama-0.3.7-py2.py3-none-any.whl\n",
            "Collecting s3transfer<0.2.0,>=0.1.9\n",
            "\u001b[?25l  Downloading https://files.pythonhosted.org/packages/d7/14/2a0004d487464d120c9fb85313a75cd3d71a7506955be458eebfe19a6b1d/s3transfer-0.1.13-py2.py3-none-any.whl (59kB)\n",
            "\u001b[K     |████████████████████████████████| 61kB 6.0MB/s \n",
            "\u001b[?25hCollecting rsa<=3.5.0,>=3.1.2\n",
            "\u001b[?25l  Downloading https://files.pythonhosted.org/packages/e1/ae/baedc9cb175552e95f3395c43055a6a5e125ae4d48a1d7a924baca83e92e/rsa-3.4.2-py2.py3-none-any.whl (46kB)\n",
            "\u001b[K     |████████████████████████████████| 51kB 5.0MB/s \n",
            "\u001b[?25hCollecting botocore==1.4.75\n",
            "\u001b[?25l  Downloading https://files.pythonhosted.org/packages/5d/dd/a6d9f1c3262812737bc5b7e8da0199a67134bda2959d59769013bbc099f7/botocore-1.4.75-py2.py3-none-any.whl (2.8MB)\n",
            "\u001b[K     |████████████████████████████████| 2.8MB 20.0MB/s \n",
            "\u001b[?25hRequirement already satisfied: pyasn1>=0.1.3 in /usr/local/lib/python3.7/dist-packages (from rsa<=3.5.0,>=3.1.2->awscli==1.11.18) (0.4.8)\n",
            "Requirement already satisfied: python-dateutil<3.0.0,>=2.1 in /usr/local/lib/python3.7/dist-packages (from botocore==1.4.75->awscli==1.11.18) (2.8.1)\n",
            "Collecting jmespath<1.0.0,>=0.7.1\n",
            "  Downloading https://files.pythonhosted.org/packages/07/cb/5f001272b6faeb23c1c9e0acc04d48eaaf5c862c17709d20e3469c6e0139/jmespath-0.10.0-py2.py3-none-any.whl\n",
            "Requirement already satisfied: six>=1.5 in /usr/local/lib/python3.7/dist-packages (from python-dateutil<3.0.0,>=2.1->botocore==1.4.75->awscli==1.11.18) (1.15.0)\n",
            "Installing collected packages: colorama, jmespath, botocore, s3transfer, rsa, awscli\n",
            "  Found existing installation: rsa 4.7.2\n",
            "    Uninstalling rsa-4.7.2:\n",
            "      Successfully uninstalled rsa-4.7.2\n",
            "Successfully installed awscli-1.11.18 botocore-1.4.75 colorama-0.3.7 jmespath-0.10.0 rsa-3.4.2 s3transfer-0.1.13\n"
          ],
          "name": "stdout"
        }
      ]
    },
    {
      "cell_type": "code",
      "metadata": {
        "id": "Wu0GEUuE6Rcw"
      },
      "source": [
        "#importação da função que cria o bot e das que o treinam\n",
        "from chatterbot import ChatBot\n",
        "from chatterbot.trainers import ListTrainer\n",
        "from chatterbot.trainers import ChatterBotCorpusTrainer"
      ],
      "execution_count": 2,
      "outputs": []
    },
    {
      "cell_type": "markdown",
      "metadata": {
        "id": "kbhUkywi6a_3"
      },
      "source": [
        "List é uma lista com perguntas e respostas que podemos passar para o Bot.\n",
        "Já o Corpus é um arquivo de texto que tem algumas falas e respostas padrões ex: \"oi, tudo bem?\""
      ]
    },
    {
      "cell_type": "code",
      "metadata": {
        "id": "OjlBsUio6XUt"
      },
      "source": [
        "#criando o chatbot\n",
        "bot_teste = ChatBot('Pythonbot', \n",
        "              storage_adapter='chatterbot.storage.SQLStorageAdapter',\n",
        "              database_uri='sqlite:///database.sqlite3',\n",
        "              logic_adapters=['chatterbot.logic.BestMatch', 'chatterbot.logic.MathematicalEvaluation']\n",
        "    )"
      ],
      "execution_count": 3,
      "outputs": []
    },
    {
      "cell_type": "markdown",
      "metadata": {
        "id": "MwtPkGxf6h4c"
      },
      "source": [
        "storage_adapter e database_uri criam um banco de dados SQL para o bot armazenar as interações e então aprender a partir dela."
      ]
    },
    {
      "cell_type": "code",
      "metadata": {
        "id": "ocPWioOX6e6W"
      },
      "source": [
        "#inserindo os arquivos para interação com o Bot\n",
        "#treinando com a lista padrão da biblioteca ChatterBot\n",
        "conversa = ChatterBotCorpusTrainer(bot_teste)\n",
        "conversa.train('chatterbot.corpus.portuguese')"
      ],
      "execution_count": null,
      "outputs": []
    },
    {
      "cell_type": "code",
      "metadata": {
        "id": "WY0-MGPK6zem"
      },
      "source": [
        "#treinando com a lista que passaremos\n",
        "conversa_list = ListTrainer(bot_teste)"
      ],
      "execution_count": 7,
      "outputs": []
    },
    {
      "cell_type": "code",
      "metadata": {
        "id": "KIq4JAVI60wm"
      },
      "source": [
        "nome = input('Me chamo: ')\n",
        "c1 = ['Oi!',\n",
        "      'Oii, tudo bem?',\n",
        "      'Tudo bem, qual seu nome?',\n",
        "      'Me chamo PythonBot! E você?', \n",
        "      f'Me chamo {nome}',\n",
        "      'Que nome bonito!',\n",
        "      'Obrigado kkkk',\n",
        "      'kkkkk',\n",
        "      'O que você pode fazer?',\n",
        "      'Hummm, bom, muitas coisas, a maioria voltada para ajudar humanos',\n",
        "      'Legal, você sabe dizer a temperatura?',\n",
        "      'Essa você me pegou, ainda não, vou dizer para meus desenvolvedores inserirem isso',\n",
        "      'Faz isso por favor, estou sempre querendo saber se não vai chover',\n",
        "      'Certo! Pode deixar',\n",
        "      'E contar piada você sabe?',\n",
        "      'Claro, porque o menino falando no telefone deitado?',\n",
        "      'Não sei',\n",
        "      'Para não cair a ligação! KKKK',\n",
        "      'você é muito ruim, pare de contar piadas',\n",
        "      'Desculpa, vou parar'\n",
        "      ]"
      ],
      "execution_count": null,
      "outputs": []
    },
    {
      "cell_type": "code",
      "metadata": {
        "id": "m7Qr1Mus699m"
      },
      "source": [
        "conversa_list.train(c1)"
      ],
      "execution_count": null,
      "outputs": []
    },
    {
      "cell_type": "code",
      "metadata": {
        "id": "NTdDqKK06heP"
      },
      "source": [
        "#criando o loop para as interações com o ChatBot\n",
        "while True:\n",
        "  try:\n",
        "    resposta = bot_teste.get_response(input(\"Usuário: \"))\n",
        "    if float(resposta.confidence) > 0.3:\n",
        "      print(f'PythonBot: {resposta}')\n",
        "    else:\n",
        "      print('Desculpa, eu não entendi')\n",
        "  except (KeyboardInterrupt, EOFError, SystemExit):\n",
        "      break"
      ],
      "execution_count": null,
      "outputs": []
    }
  ]
}