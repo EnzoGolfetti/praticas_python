{
  "nbformat": 4,
  "nbformat_minor": 0,
  "metadata": {
    "colab": {
      "provenance": [],
      "authorship_tag": "ABX9TyNrUveBlxMN0tDp2kiEKoTV",
      "include_colab_link": true
    },
    "kernelspec": {
      "name": "python3",
      "display_name": "Python 3"
    },
    "language_info": {
      "name": "python"
    }
  },
  "cells": [
    {
      "cell_type": "markdown",
      "metadata": {
        "id": "view-in-github",
        "colab_type": "text"
      },
      "source": [
        "<a href=\"https://colab.research.google.com/github/EnzoGolfetti/praticas_python/blob/main/Notebook_Comparacoes_Pandas_Vs_Polars.ipynb\" target=\"_parent\"><img src=\"https://colab.research.google.com/assets/colab-badge.svg\" alt=\"Open In Colab\"/></a>"
      ]
    },
    {
      "cell_type": "markdown",
      "source": [
        "####Instalando o Polars e Importando bibliotecas"
      ],
      "metadata": {
        "id": "MrKjyMdikrOA"
      }
    },
    {
      "cell_type": "code",
      "execution_count": 1,
      "metadata": {
        "colab": {
          "base_uri": "https://localhost:8080/"
        },
        "id": "B7BTpnB-wifB",
        "outputId": "ec59e7ab-6327-43ca-b842-471d45e31d45"
      },
      "outputs": [
        {
          "output_type": "stream",
          "name": "stdout",
          "text": [
            "Looking in indexes: https://pypi.org/simple, https://us-python.pkg.dev/colab-wheels/public/simple/\n",
            "Collecting polars\n",
            "  Downloading polars-0.17.3-cp37-abi3-manylinux_2_17_x86_64.manylinux2014_x86_64.whl (17.5 MB)\n",
            "\u001b[2K     \u001b[90m━━━━━━━━━━━━━━━━━━━━━━━━━━━━━━━━━━━━━━━━\u001b[0m \u001b[32m17.5/17.5 MB\u001b[0m \u001b[31m52.5 MB/s\u001b[0m eta \u001b[36m0:00:00\u001b[0m\n",
            "\u001b[?25hRequirement already satisfied: typing_extensions>=4.0.1 in /usr/local/lib/python3.9/dist-packages (from polars) (4.5.0)\n",
            "Installing collected packages: polars\n",
            "Successfully installed polars-0.17.3\n"
          ]
        }
      ],
      "source": [
        "!pip install -U polars\n",
        "import pandas as pd\n",
        "import polars as pl"
      ]
    },
    {
      "cell_type": "markdown",
      "source": [
        "###Realizaremos as principais comparações entre a biblioteca Pandas e a biblioteca Polars.\n",
        "\n",
        "- Criação de arrays de dados (conhecido popularmente como 'Series');\n",
        "- Criação de DataFrames;\n",
        "- Abertura de arquivos (nesse exemplo abriremos alguns arquivos em '.csv' e '.parquet');\n",
        "- Filtros;\n",
        "- Agregações."
      ],
      "metadata": {
        "id": "r8WJYgfiyV_x"
      }
    },
    {
      "cell_type": "markdown",
      "source": [
        "###Criando arrays"
      ],
      "metadata": {
        "id": "XGW7kBHKlTq0"
      }
    },
    {
      "cell_type": "code",
      "source": [
        "lista_exemplo = [1,2,3,4,5,6]\n",
        "\n",
        "#Pandas\n",
        "pandas_series_ex = pd.Series(lista_exemplo, name = 'pandas_series')\n",
        "\n",
        "#Polars\n",
        "polars_series_ex = pl.Series('polars_series', lista_exemplo)\n",
        "\n",
        "print(f'Series em Pandas:\\n \\n{pandas_series_ex}')\n",
        "print('\\n')\n",
        "print(f'Series em Polars:\\n \\n{polars_series_ex}')"
      ],
      "metadata": {
        "colab": {
          "base_uri": "https://localhost:8080/"
        },
        "id": "mohEOz0vxu5G",
        "outputId": "c26ca858-52f7-4b29-8c8c-3569e92d0226"
      },
      "execution_count": 2,
      "outputs": [
        {
          "output_type": "stream",
          "name": "stdout",
          "text": [
            "Series em Pandas:\n",
            " \n",
            "0    1\n",
            "1    2\n",
            "2    3\n",
            "3    4\n",
            "4    5\n",
            "5    6\n",
            "Name: pandas_series, dtype: int64\n",
            "\n",
            "\n",
            "Series em Polars:\n",
            " \n",
            "shape: (6,)\n",
            "Series: 'polars_series' [i64]\n",
            "[\n",
            "\t1\n",
            "\t2\n",
            "\t3\n",
            "\t4\n",
            "\t5\n",
            "\t6\n",
            "]\n"
          ]
        }
      ]
    },
    {
      "cell_type": "markdown",
      "source": [
        "As principais diferenças que podemos identificar nas bibliotecas com Series, são a identificação do nome e _dtype_ do objeto que em Polars são transferidos para cima.\n",
        "\n",
        "Polars é conhecida por sua falta de índices, uma identificação que pode ser notada no Pandas em seus principais objetos.\n",
        "\n",
        "Polars tem uma adição frente à Pandas. Apresenta o _shape_ do objeto quando este é 'printado'."
      ],
      "metadata": {
        "id": "--MOTuYj2EZ1"
      }
    },
    {
      "cell_type": "markdown",
      "source": [
        "###Criando DataFrames"
      ],
      "metadata": {
        "id": "fZcnOOo-lRXl"
      }
    },
    {
      "cell_type": "code",
      "source": [
        "dict_exemplo = {'column1' : [1,2,3,4],\n",
        "                'column2' : ['W', 'X', 'Y', 'Z'],\n",
        "                'column3' : [0.1, 0.2, 0.3, 0.4]\n",
        "                }\n",
        "\n",
        "#Pandas DataFrame\n",
        "df_pd = pd.DataFrame(dict_exemplo)\n",
        "\n",
        "#Polars DataFrame\n",
        "df_pl = pl.DataFrame(dict_exemplo)\n",
        "\n",
        "print('DataFrame em Pandas:\\n')\n",
        "display(df_pd)\n",
        "print('\\n')\n",
        "print('DataFrame em Polars:\\n')\n",
        "display(df_pl)"
      ],
      "metadata": {
        "colab": {
          "base_uri": "https://localhost:8080/",
          "height": 492
        },
        "id": "9ikEg3SX1u0c",
        "outputId": "b3c05e0b-e2c7-4692-fb67-8d37ee3a9209"
      },
      "execution_count": 3,
      "outputs": [
        {
          "output_type": "stream",
          "name": "stdout",
          "text": [
            "DataFrame em Pandas:\n",
            "\n"
          ]
        },
        {
          "output_type": "display_data",
          "data": {
            "text/plain": [
              "   column1 column2  column3\n",
              "0        1       W      0.1\n",
              "1        2       X      0.2\n",
              "2        3       Y      0.3\n",
              "3        4       Z      0.4"
            ],
            "text/html": [
              "\n",
              "  <div id=\"df-0287fe3c-c5d5-4b78-8975-2054cad6c246\">\n",
              "    <div class=\"colab-df-container\">\n",
              "      <div>\n",
              "<style scoped>\n",
              "    .dataframe tbody tr th:only-of-type {\n",
              "        vertical-align: middle;\n",
              "    }\n",
              "\n",
              "    .dataframe tbody tr th {\n",
              "        vertical-align: top;\n",
              "    }\n",
              "\n",
              "    .dataframe thead th {\n",
              "        text-align: right;\n",
              "    }\n",
              "</style>\n",
              "<table border=\"1\" class=\"dataframe\">\n",
              "  <thead>\n",
              "    <tr style=\"text-align: right;\">\n",
              "      <th></th>\n",
              "      <th>column1</th>\n",
              "      <th>column2</th>\n",
              "      <th>column3</th>\n",
              "    </tr>\n",
              "  </thead>\n",
              "  <tbody>\n",
              "    <tr>\n",
              "      <th>0</th>\n",
              "      <td>1</td>\n",
              "      <td>W</td>\n",
              "      <td>0.1</td>\n",
              "    </tr>\n",
              "    <tr>\n",
              "      <th>1</th>\n",
              "      <td>2</td>\n",
              "      <td>X</td>\n",
              "      <td>0.2</td>\n",
              "    </tr>\n",
              "    <tr>\n",
              "      <th>2</th>\n",
              "      <td>3</td>\n",
              "      <td>Y</td>\n",
              "      <td>0.3</td>\n",
              "    </tr>\n",
              "    <tr>\n",
              "      <th>3</th>\n",
              "      <td>4</td>\n",
              "      <td>Z</td>\n",
              "      <td>0.4</td>\n",
              "    </tr>\n",
              "  </tbody>\n",
              "</table>\n",
              "</div>\n",
              "      <button class=\"colab-df-convert\" onclick=\"convertToInteractive('df-0287fe3c-c5d5-4b78-8975-2054cad6c246')\"\n",
              "              title=\"Convert this dataframe to an interactive table.\"\n",
              "              style=\"display:none;\">\n",
              "        \n",
              "  <svg xmlns=\"http://www.w3.org/2000/svg\" height=\"24px\"viewBox=\"0 0 24 24\"\n",
              "       width=\"24px\">\n",
              "    <path d=\"M0 0h24v24H0V0z\" fill=\"none\"/>\n",
              "    <path d=\"M18.56 5.44l.94 2.06.94-2.06 2.06-.94-2.06-.94-.94-2.06-.94 2.06-2.06.94zm-11 1L8.5 8.5l.94-2.06 2.06-.94-2.06-.94L8.5 2.5l-.94 2.06-2.06.94zm10 10l.94 2.06.94-2.06 2.06-.94-2.06-.94-.94-2.06-.94 2.06-2.06.94z\"/><path d=\"M17.41 7.96l-1.37-1.37c-.4-.4-.92-.59-1.43-.59-.52 0-1.04.2-1.43.59L10.3 9.45l-7.72 7.72c-.78.78-.78 2.05 0 2.83L4 21.41c.39.39.9.59 1.41.59.51 0 1.02-.2 1.41-.59l7.78-7.78 2.81-2.81c.8-.78.8-2.07 0-2.86zM5.41 20L4 18.59l7.72-7.72 1.47 1.35L5.41 20z\"/>\n",
              "  </svg>\n",
              "      </button>\n",
              "      \n",
              "  <style>\n",
              "    .colab-df-container {\n",
              "      display:flex;\n",
              "      flex-wrap:wrap;\n",
              "      gap: 12px;\n",
              "    }\n",
              "\n",
              "    .colab-df-convert {\n",
              "      background-color: #E8F0FE;\n",
              "      border: none;\n",
              "      border-radius: 50%;\n",
              "      cursor: pointer;\n",
              "      display: none;\n",
              "      fill: #1967D2;\n",
              "      height: 32px;\n",
              "      padding: 0 0 0 0;\n",
              "      width: 32px;\n",
              "    }\n",
              "\n",
              "    .colab-df-convert:hover {\n",
              "      background-color: #E2EBFA;\n",
              "      box-shadow: 0px 1px 2px rgba(60, 64, 67, 0.3), 0px 1px 3px 1px rgba(60, 64, 67, 0.15);\n",
              "      fill: #174EA6;\n",
              "    }\n",
              "\n",
              "    [theme=dark] .colab-df-convert {\n",
              "      background-color: #3B4455;\n",
              "      fill: #D2E3FC;\n",
              "    }\n",
              "\n",
              "    [theme=dark] .colab-df-convert:hover {\n",
              "      background-color: #434B5C;\n",
              "      box-shadow: 0px 1px 3px 1px rgba(0, 0, 0, 0.15);\n",
              "      filter: drop-shadow(0px 1px 2px rgba(0, 0, 0, 0.3));\n",
              "      fill: #FFFFFF;\n",
              "    }\n",
              "  </style>\n",
              "\n",
              "      <script>\n",
              "        const buttonEl =\n",
              "          document.querySelector('#df-0287fe3c-c5d5-4b78-8975-2054cad6c246 button.colab-df-convert');\n",
              "        buttonEl.style.display =\n",
              "          google.colab.kernel.accessAllowed ? 'block' : 'none';\n",
              "\n",
              "        async function convertToInteractive(key) {\n",
              "          const element = document.querySelector('#df-0287fe3c-c5d5-4b78-8975-2054cad6c246');\n",
              "          const dataTable =\n",
              "            await google.colab.kernel.invokeFunction('convertToInteractive',\n",
              "                                                     [key], {});\n",
              "          if (!dataTable) return;\n",
              "\n",
              "          const docLinkHtml = 'Like what you see? Visit the ' +\n",
              "            '<a target=\"_blank\" href=https://colab.research.google.com/notebooks/data_table.ipynb>data table notebook</a>'\n",
              "            + ' to learn more about interactive tables.';\n",
              "          element.innerHTML = '';\n",
              "          dataTable['output_type'] = 'display_data';\n",
              "          await google.colab.output.renderOutput(dataTable, element);\n",
              "          const docLink = document.createElement('div');\n",
              "          docLink.innerHTML = docLinkHtml;\n",
              "          element.appendChild(docLink);\n",
              "        }\n",
              "      </script>\n",
              "    </div>\n",
              "  </div>\n",
              "  "
            ]
          },
          "metadata": {}
        },
        {
          "output_type": "stream",
          "name": "stdout",
          "text": [
            "\n",
            "\n",
            "DataFrame em Polars:\n",
            "\n"
          ]
        },
        {
          "output_type": "display_data",
          "data": {
            "text/plain": [
              "shape: (4, 3)\n",
              "┌─────────┬─────────┬─────────┐\n",
              "│ column1 ┆ column2 ┆ column3 │\n",
              "│ ---     ┆ ---     ┆ ---     │\n",
              "│ i64     ┆ str     ┆ f64     │\n",
              "╞═════════╪═════════╪═════════╡\n",
              "│ 1       ┆ W       ┆ 0.1     │\n",
              "│ 2       ┆ X       ┆ 0.2     │\n",
              "│ 3       ┆ Y       ┆ 0.3     │\n",
              "│ 4       ┆ Z       ┆ 0.4     │\n",
              "└─────────┴─────────┴─────────┘"
            ],
            "text/html": [
              "<div><style>\n",
              ".dataframe > thead > tr > th,\n",
              ".dataframe > tbody > tr > td {\n",
              "  text-align: right;\n",
              "}\n",
              "</style>\n",
              "<small>shape: (4, 3)</small><table border=\"1\" class=\"dataframe\"><thead><tr><th>column1</th><th>column2</th><th>column3</th></tr><tr><td>i64</td><td>str</td><td>f64</td></tr></thead><tbody><tr><td>1</td><td>&quot;W&quot;</td><td>0.1</td></tr><tr><td>2</td><td>&quot;X&quot;</td><td>0.2</td></tr><tr><td>3</td><td>&quot;Y&quot;</td><td>0.3</td></tr><tr><td>4</td><td>&quot;Z&quot;</td><td>0.4</td></tr></tbody></table></div>"
            ]
          },
          "metadata": {}
        }
      ]
    },
    {
      "cell_type": "markdown",
      "source": [
        "Em relação ao objeto DataFrame, Pandas e Polars diferem principalmente novamente na falta de Index no Polars (o que atrapalha em partes a depender das necessidades da análise).\n",
        "\n",
        "Além disso, nota-se que Polars tem forte orientação aos tipos de dados do Objeto, explicitando também no print de um DataFrame quais os dtypes das colunas (Series, dado que um DataFrame é uma coleção de Series). A demonstração do shape continua presente no objeto DataFrame assim como nas Series."
      ],
      "metadata": {
        "id": "Bmhi7NnH5SJ_"
      }
    },
    {
      "cell_type": "markdown",
      "source": [
        "###Abrindo arquivos CSV"
      ],
      "metadata": {
        "id": "mkzBYw1plVRQ"
      }
    },
    {
      "cell_type": "code",
      "source": [
        "#Arquivos CSV\n",
        "\n",
        "#Pandas\n",
        "df_diamonds_pd = pd.read_csv('https://raw.githubusercontent.com/EnzoGolfetti/praticas_python/main/Pandas_Polars_Comparacoes_Basicas_Python/largest_diamond_dataset_kaggle_1604.csv', sep=',')\n",
        "#print primeiras 5 linhas\n",
        "print('Diamonds dataset (.CSV) em Pandas:\\n')\n",
        "display(df_diamonds_pd.head())\n",
        "print('\\n')\n",
        "\n",
        "#Polars\n",
        "df_diamons_pl = pl.read_csv('https://raw.githubusercontent.com/EnzoGolfetti/praticas_python/main/Pandas_Polars_Comparacoes_Basicas_Python/largest_diamond_dataset_kaggle_1604.csv', separator=',')\n",
        "#print primeiras 5 linhas\n",
        "print('Diamonds dataset (.CSV) em Polars:\\n')\n",
        "display(df_diamons_pl.head())"
      ],
      "metadata": {
        "id": "FGxh-jKN5NwO",
        "colab": {
          "base_uri": "https://localhost:8080/",
          "height": 802
        },
        "outputId": "7098c962-378e-4b67-dfbe-a671d75eba09"
      },
      "execution_count": 4,
      "outputs": [
        {
          "output_type": "stream",
          "name": "stdout",
          "text": [
            "Diamonds dataset (.CSV) em Pandas:\n",
            "\n"
          ]
        },
        {
          "output_type": "display_data",
          "data": {
            "text/plain": [
              "   Unnamed: 0    cut color clarity  carat_weight cut_quality  lab   symmetry  \\\n",
              "0           0  Round     E    VVS2          0.09   Excellent  IGI  Very Good   \n",
              "1           1  Round     E    VVS2          0.09   Very Good  IGI  Very Good   \n",
              "2           2  Round     E    VVS2          0.09   Excellent  IGI  Very Good   \n",
              "3           3  Round     E    VVS2          0.09   Excellent  IGI  Very Good   \n",
              "4           4  Round     E    VVS2          0.09   Very Good  IGI  Very Good   \n",
              "\n",
              "      polish eye_clean  ... meas_depth girdle_min  girdle_max  fluor_color  \\\n",
              "0  Very Good   unknown  ...       1.79          M           M      unknown   \n",
              "1  Very Good   unknown  ...       1.78        STK         STK      unknown   \n",
              "2  Very Good   unknown  ...       1.77         TN           M      unknown   \n",
              "3  Very Good   unknown  ...       1.78          M         STK      unknown   \n",
              "4  Excellent   unknown  ...       1.82        STK         STK      unknown   \n",
              "\n",
              "   fluor_intensity  fancy_color_dominant_color  fancy_color_secondary_color  \\\n",
              "0             None                     unknown                      unknown   \n",
              "1             None                     unknown                      unknown   \n",
              "2             None                     unknown                      unknown   \n",
              "3             None                     unknown                      unknown   \n",
              "4             None                     unknown                      unknown   \n",
              "\n",
              "  fancy_color_overtone fancy_color_intensity total_sales_price  \n",
              "0              unknown               unknown               200  \n",
              "1              unknown               unknown               200  \n",
              "2              unknown               unknown               200  \n",
              "3              unknown               unknown               200  \n",
              "4              unknown               unknown               200  \n",
              "\n",
              "[5 rows x 26 columns]"
            ],
            "text/html": [
              "\n",
              "  <div id=\"df-3d36b34d-da62-4551-ade8-6f6770e6d26e\">\n",
              "    <div class=\"colab-df-container\">\n",
              "      <div>\n",
              "<style scoped>\n",
              "    .dataframe tbody tr th:only-of-type {\n",
              "        vertical-align: middle;\n",
              "    }\n",
              "\n",
              "    .dataframe tbody tr th {\n",
              "        vertical-align: top;\n",
              "    }\n",
              "\n",
              "    .dataframe thead th {\n",
              "        text-align: right;\n",
              "    }\n",
              "</style>\n",
              "<table border=\"1\" class=\"dataframe\">\n",
              "  <thead>\n",
              "    <tr style=\"text-align: right;\">\n",
              "      <th></th>\n",
              "      <th>Unnamed: 0</th>\n",
              "      <th>cut</th>\n",
              "      <th>color</th>\n",
              "      <th>clarity</th>\n",
              "      <th>carat_weight</th>\n",
              "      <th>cut_quality</th>\n",
              "      <th>lab</th>\n",
              "      <th>symmetry</th>\n",
              "      <th>polish</th>\n",
              "      <th>eye_clean</th>\n",
              "      <th>...</th>\n",
              "      <th>meas_depth</th>\n",
              "      <th>girdle_min</th>\n",
              "      <th>girdle_max</th>\n",
              "      <th>fluor_color</th>\n",
              "      <th>fluor_intensity</th>\n",
              "      <th>fancy_color_dominant_color</th>\n",
              "      <th>fancy_color_secondary_color</th>\n",
              "      <th>fancy_color_overtone</th>\n",
              "      <th>fancy_color_intensity</th>\n",
              "      <th>total_sales_price</th>\n",
              "    </tr>\n",
              "  </thead>\n",
              "  <tbody>\n",
              "    <tr>\n",
              "      <th>0</th>\n",
              "      <td>0</td>\n",
              "      <td>Round</td>\n",
              "      <td>E</td>\n",
              "      <td>VVS2</td>\n",
              "      <td>0.09</td>\n",
              "      <td>Excellent</td>\n",
              "      <td>IGI</td>\n",
              "      <td>Very Good</td>\n",
              "      <td>Very Good</td>\n",
              "      <td>unknown</td>\n",
              "      <td>...</td>\n",
              "      <td>1.79</td>\n",
              "      <td>M</td>\n",
              "      <td>M</td>\n",
              "      <td>unknown</td>\n",
              "      <td>None</td>\n",
              "      <td>unknown</td>\n",
              "      <td>unknown</td>\n",
              "      <td>unknown</td>\n",
              "      <td>unknown</td>\n",
              "      <td>200</td>\n",
              "    </tr>\n",
              "    <tr>\n",
              "      <th>1</th>\n",
              "      <td>1</td>\n",
              "      <td>Round</td>\n",
              "      <td>E</td>\n",
              "      <td>VVS2</td>\n",
              "      <td>0.09</td>\n",
              "      <td>Very Good</td>\n",
              "      <td>IGI</td>\n",
              "      <td>Very Good</td>\n",
              "      <td>Very Good</td>\n",
              "      <td>unknown</td>\n",
              "      <td>...</td>\n",
              "      <td>1.78</td>\n",
              "      <td>STK</td>\n",
              "      <td>STK</td>\n",
              "      <td>unknown</td>\n",
              "      <td>None</td>\n",
              "      <td>unknown</td>\n",
              "      <td>unknown</td>\n",
              "      <td>unknown</td>\n",
              "      <td>unknown</td>\n",
              "      <td>200</td>\n",
              "    </tr>\n",
              "    <tr>\n",
              "      <th>2</th>\n",
              "      <td>2</td>\n",
              "      <td>Round</td>\n",
              "      <td>E</td>\n",
              "      <td>VVS2</td>\n",
              "      <td>0.09</td>\n",
              "      <td>Excellent</td>\n",
              "      <td>IGI</td>\n",
              "      <td>Very Good</td>\n",
              "      <td>Very Good</td>\n",
              "      <td>unknown</td>\n",
              "      <td>...</td>\n",
              "      <td>1.77</td>\n",
              "      <td>TN</td>\n",
              "      <td>M</td>\n",
              "      <td>unknown</td>\n",
              "      <td>None</td>\n",
              "      <td>unknown</td>\n",
              "      <td>unknown</td>\n",
              "      <td>unknown</td>\n",
              "      <td>unknown</td>\n",
              "      <td>200</td>\n",
              "    </tr>\n",
              "    <tr>\n",
              "      <th>3</th>\n",
              "      <td>3</td>\n",
              "      <td>Round</td>\n",
              "      <td>E</td>\n",
              "      <td>VVS2</td>\n",
              "      <td>0.09</td>\n",
              "      <td>Excellent</td>\n",
              "      <td>IGI</td>\n",
              "      <td>Very Good</td>\n",
              "      <td>Very Good</td>\n",
              "      <td>unknown</td>\n",
              "      <td>...</td>\n",
              "      <td>1.78</td>\n",
              "      <td>M</td>\n",
              "      <td>STK</td>\n",
              "      <td>unknown</td>\n",
              "      <td>None</td>\n",
              "      <td>unknown</td>\n",
              "      <td>unknown</td>\n",
              "      <td>unknown</td>\n",
              "      <td>unknown</td>\n",
              "      <td>200</td>\n",
              "    </tr>\n",
              "    <tr>\n",
              "      <th>4</th>\n",
              "      <td>4</td>\n",
              "      <td>Round</td>\n",
              "      <td>E</td>\n",
              "      <td>VVS2</td>\n",
              "      <td>0.09</td>\n",
              "      <td>Very Good</td>\n",
              "      <td>IGI</td>\n",
              "      <td>Very Good</td>\n",
              "      <td>Excellent</td>\n",
              "      <td>unknown</td>\n",
              "      <td>...</td>\n",
              "      <td>1.82</td>\n",
              "      <td>STK</td>\n",
              "      <td>STK</td>\n",
              "      <td>unknown</td>\n",
              "      <td>None</td>\n",
              "      <td>unknown</td>\n",
              "      <td>unknown</td>\n",
              "      <td>unknown</td>\n",
              "      <td>unknown</td>\n",
              "      <td>200</td>\n",
              "    </tr>\n",
              "  </tbody>\n",
              "</table>\n",
              "<p>5 rows × 26 columns</p>\n",
              "</div>\n",
              "      <button class=\"colab-df-convert\" onclick=\"convertToInteractive('df-3d36b34d-da62-4551-ade8-6f6770e6d26e')\"\n",
              "              title=\"Convert this dataframe to an interactive table.\"\n",
              "              style=\"display:none;\">\n",
              "        \n",
              "  <svg xmlns=\"http://www.w3.org/2000/svg\" height=\"24px\"viewBox=\"0 0 24 24\"\n",
              "       width=\"24px\">\n",
              "    <path d=\"M0 0h24v24H0V0z\" fill=\"none\"/>\n",
              "    <path d=\"M18.56 5.44l.94 2.06.94-2.06 2.06-.94-2.06-.94-.94-2.06-.94 2.06-2.06.94zm-11 1L8.5 8.5l.94-2.06 2.06-.94-2.06-.94L8.5 2.5l-.94 2.06-2.06.94zm10 10l.94 2.06.94-2.06 2.06-.94-2.06-.94-.94-2.06-.94 2.06-2.06.94z\"/><path d=\"M17.41 7.96l-1.37-1.37c-.4-.4-.92-.59-1.43-.59-.52 0-1.04.2-1.43.59L10.3 9.45l-7.72 7.72c-.78.78-.78 2.05 0 2.83L4 21.41c.39.39.9.59 1.41.59.51 0 1.02-.2 1.41-.59l7.78-7.78 2.81-2.81c.8-.78.8-2.07 0-2.86zM5.41 20L4 18.59l7.72-7.72 1.47 1.35L5.41 20z\"/>\n",
              "  </svg>\n",
              "      </button>\n",
              "      \n",
              "  <style>\n",
              "    .colab-df-container {\n",
              "      display:flex;\n",
              "      flex-wrap:wrap;\n",
              "      gap: 12px;\n",
              "    }\n",
              "\n",
              "    .colab-df-convert {\n",
              "      background-color: #E8F0FE;\n",
              "      border: none;\n",
              "      border-radius: 50%;\n",
              "      cursor: pointer;\n",
              "      display: none;\n",
              "      fill: #1967D2;\n",
              "      height: 32px;\n",
              "      padding: 0 0 0 0;\n",
              "      width: 32px;\n",
              "    }\n",
              "\n",
              "    .colab-df-convert:hover {\n",
              "      background-color: #E2EBFA;\n",
              "      box-shadow: 0px 1px 2px rgba(60, 64, 67, 0.3), 0px 1px 3px 1px rgba(60, 64, 67, 0.15);\n",
              "      fill: #174EA6;\n",
              "    }\n",
              "\n",
              "    [theme=dark] .colab-df-convert {\n",
              "      background-color: #3B4455;\n",
              "      fill: #D2E3FC;\n",
              "    }\n",
              "\n",
              "    [theme=dark] .colab-df-convert:hover {\n",
              "      background-color: #434B5C;\n",
              "      box-shadow: 0px 1px 3px 1px rgba(0, 0, 0, 0.15);\n",
              "      filter: drop-shadow(0px 1px 2px rgba(0, 0, 0, 0.3));\n",
              "      fill: #FFFFFF;\n",
              "    }\n",
              "  </style>\n",
              "\n",
              "      <script>\n",
              "        const buttonEl =\n",
              "          document.querySelector('#df-3d36b34d-da62-4551-ade8-6f6770e6d26e button.colab-df-convert');\n",
              "        buttonEl.style.display =\n",
              "          google.colab.kernel.accessAllowed ? 'block' : 'none';\n",
              "\n",
              "        async function convertToInteractive(key) {\n",
              "          const element = document.querySelector('#df-3d36b34d-da62-4551-ade8-6f6770e6d26e');\n",
              "          const dataTable =\n",
              "            await google.colab.kernel.invokeFunction('convertToInteractive',\n",
              "                                                     [key], {});\n",
              "          if (!dataTable) return;\n",
              "\n",
              "          const docLinkHtml = 'Like what you see? Visit the ' +\n",
              "            '<a target=\"_blank\" href=https://colab.research.google.com/notebooks/data_table.ipynb>data table notebook</a>'\n",
              "            + ' to learn more about interactive tables.';\n",
              "          element.innerHTML = '';\n",
              "          dataTable['output_type'] = 'display_data';\n",
              "          await google.colab.output.renderOutput(dataTable, element);\n",
              "          const docLink = document.createElement('div');\n",
              "          docLink.innerHTML = docLinkHtml;\n",
              "          element.appendChild(docLink);\n",
              "        }\n",
              "      </script>\n",
              "    </div>\n",
              "  </div>\n",
              "  "
            ]
          },
          "metadata": {}
        },
        {
          "output_type": "stream",
          "name": "stdout",
          "text": [
            "Diamonds dataset (.CSV) em Polars:\n",
            "\n"
          ]
        },
        {
          "output_type": "display_data",
          "data": {
            "text/plain": [
              "shape: (5, 26)\n",
              "┌─────┬───────┬───────┬─────────┬───┬───────────────┬───────────────┬───────────────┬──────────────┐\n",
              "│     ┆ cut   ┆ color ┆ clarity ┆ … ┆ fancy_color_s ┆ fancy_color_o ┆ fancy_color_i ┆ total_sales_ │\n",
              "│ --- ┆ ---   ┆ ---   ┆ ---     ┆   ┆ econdary_colo ┆ vertone       ┆ ntensity      ┆ price        │\n",
              "│ i64 ┆ str   ┆ str   ┆ str     ┆   ┆ r             ┆ ---           ┆ ---           ┆ ---          │\n",
              "│     ┆       ┆       ┆         ┆   ┆ ---           ┆ str           ┆ str           ┆ i64          │\n",
              "│     ┆       ┆       ┆         ┆   ┆ str           ┆               ┆               ┆              │\n",
              "╞═════╪═══════╪═══════╪═════════╪═══╪═══════════════╪═══════════════╪═══════════════╪══════════════╡\n",
              "│ 0   ┆ Round ┆ E     ┆ VVS2    ┆ … ┆ unknown       ┆ unknown       ┆ unknown       ┆ 200          │\n",
              "│ 1   ┆ Round ┆ E     ┆ VVS2    ┆ … ┆ unknown       ┆ unknown       ┆ unknown       ┆ 200          │\n",
              "│ 2   ┆ Round ┆ E     ┆ VVS2    ┆ … ┆ unknown       ┆ unknown       ┆ unknown       ┆ 200          │\n",
              "│ 3   ┆ Round ┆ E     ┆ VVS2    ┆ … ┆ unknown       ┆ unknown       ┆ unknown       ┆ 200          │\n",
              "│ 4   ┆ Round ┆ E     ┆ VVS2    ┆ … ┆ unknown       ┆ unknown       ┆ unknown       ┆ 200          │\n",
              "└─────┴───────┴───────┴─────────┴───┴───────────────┴───────────────┴───────────────┴──────────────┘"
            ],
            "text/html": [
              "<div><style>\n",
              ".dataframe > thead > tr > th,\n",
              ".dataframe > tbody > tr > td {\n",
              "  text-align: right;\n",
              "}\n",
              "</style>\n",
              "<small>shape: (5, 26)</small><table border=\"1\" class=\"dataframe\"><thead><tr><th></th><th>cut</th><th>color</th><th>clarity</th><th>carat_weight</th><th>cut_quality</th><th>lab</th><th>symmetry</th><th>polish</th><th>eye_clean</th><th>culet_size</th><th>culet_condition</th><th>depth_percent</th><th>table_percent</th><th>meas_length</th><th>meas_width</th><th>meas_depth</th><th>girdle_min</th><th>girdle_max</th><th>fluor_color</th><th>fluor_intensity</th><th>fancy_color_dominant_color</th><th>fancy_color_secondary_color</th><th>fancy_color_overtone</th><th>fancy_color_intensity</th><th>total_sales_price</th></tr><tr><td>i64</td><td>str</td><td>str</td><td>str</td><td>f64</td><td>str</td><td>str</td><td>str</td><td>str</td><td>str</td><td>str</td><td>str</td><td>f64</td><td>f64</td><td>f64</td><td>f64</td><td>f64</td><td>str</td><td>str</td><td>str</td><td>str</td><td>str</td><td>str</td><td>str</td><td>str</td><td>i64</td></tr></thead><tbody><tr><td>0</td><td>&quot;Round&quot;</td><td>&quot;E&quot;</td><td>&quot;VVS2&quot;</td><td>0.09</td><td>&quot;Excellent&quot;</td><td>&quot;IGI&quot;</td><td>&quot;Very Good&quot;</td><td>&quot;Very Good&quot;</td><td>&quot;unknown&quot;</td><td>&quot;N&quot;</td><td>&quot;unknown&quot;</td><td>62.7</td><td>59.0</td><td>2.85</td><td>2.87</td><td>1.79</td><td>&quot;M&quot;</td><td>&quot;M&quot;</td><td>&quot;unknown&quot;</td><td>&quot;None&quot;</td><td>&quot;unknown&quot;</td><td>&quot;unknown&quot;</td><td>&quot;unknown&quot;</td><td>&quot;unknown&quot;</td><td>200</td></tr><tr><td>1</td><td>&quot;Round&quot;</td><td>&quot;E&quot;</td><td>&quot;VVS2&quot;</td><td>0.09</td><td>&quot;Very Good&quot;</td><td>&quot;IGI&quot;</td><td>&quot;Very Good&quot;</td><td>&quot;Very Good&quot;</td><td>&quot;unknown&quot;</td><td>&quot;N&quot;</td><td>&quot;unknown&quot;</td><td>61.9</td><td>59.0</td><td>2.84</td><td>2.89</td><td>1.78</td><td>&quot;STK&quot;</td><td>&quot;STK&quot;</td><td>&quot;unknown&quot;</td><td>&quot;None&quot;</td><td>&quot;unknown&quot;</td><td>&quot;unknown&quot;</td><td>&quot;unknown&quot;</td><td>&quot;unknown&quot;</td><td>200</td></tr><tr><td>2</td><td>&quot;Round&quot;</td><td>&quot;E&quot;</td><td>&quot;VVS2&quot;</td><td>0.09</td><td>&quot;Excellent&quot;</td><td>&quot;IGI&quot;</td><td>&quot;Very Good&quot;</td><td>&quot;Very Good&quot;</td><td>&quot;unknown&quot;</td><td>&quot;unknown&quot;</td><td>&quot;unknown&quot;</td><td>61.1</td><td>59.0</td><td>2.88</td><td>2.9</td><td>1.77</td><td>&quot;TN&quot;</td><td>&quot;M&quot;</td><td>&quot;unknown&quot;</td><td>&quot;None&quot;</td><td>&quot;unknown&quot;</td><td>&quot;unknown&quot;</td><td>&quot;unknown&quot;</td><td>&quot;unknown&quot;</td><td>200</td></tr><tr><td>3</td><td>&quot;Round&quot;</td><td>&quot;E&quot;</td><td>&quot;VVS2&quot;</td><td>0.09</td><td>&quot;Excellent&quot;</td><td>&quot;IGI&quot;</td><td>&quot;Very Good&quot;</td><td>&quot;Very Good&quot;</td><td>&quot;unknown&quot;</td><td>&quot;unknown&quot;</td><td>&quot;unknown&quot;</td><td>62.0</td><td>59.0</td><td>2.86</td><td>2.88</td><td>1.78</td><td>&quot;M&quot;</td><td>&quot;STK&quot;</td><td>&quot;unknown&quot;</td><td>&quot;None&quot;</td><td>&quot;unknown&quot;</td><td>&quot;unknown&quot;</td><td>&quot;unknown&quot;</td><td>&quot;unknown&quot;</td><td>200</td></tr><tr><td>4</td><td>&quot;Round&quot;</td><td>&quot;E&quot;</td><td>&quot;VVS2&quot;</td><td>0.09</td><td>&quot;Very Good&quot;</td><td>&quot;IGI&quot;</td><td>&quot;Very Good&quot;</td><td>&quot;Excellent&quot;</td><td>&quot;unknown&quot;</td><td>&quot;N&quot;</td><td>&quot;unknown&quot;</td><td>64.9</td><td>58.5</td><td>2.79</td><td>2.83</td><td>1.82</td><td>&quot;STK&quot;</td><td>&quot;STK&quot;</td><td>&quot;unknown&quot;</td><td>&quot;None&quot;</td><td>&quot;unknown&quot;</td><td>&quot;unknown&quot;</td><td>&quot;unknown&quot;</td><td>&quot;unknown&quot;</td><td>200</td></tr></tbody></table></div>"
            ]
          },
          "metadata": {}
        }
      ]
    },
    {
      "cell_type": "markdown",
      "source": [
        "Na parte de abrir e ler arquivos as duas bibliotecas são muito semelhantes nos métodos.\n",
        "\n",
        "A diferença fica na hora do print de um dataset maior que o Polars não trunca as colunas centrais como o Pandas faz por padrão.\n",
        "\n",
        "Um outro ponto de percepção é que a ausência de Index no Polars faz com que a biblioteca interprete a primeira coluna como sem cabeçalho e a considere normalmente.\n",
        "\n",
        "Por outro lado o Pandas por inserir automaticamente um Index, declara a coluna de Index como 'Unnamed: 0'."
      ],
      "metadata": {
        "id": "_FZ_pH4SslWB"
      }
    },
    {
      "cell_type": "markdown",
      "source": [
        "###Filtros"
      ],
      "metadata": {
        "id": "Ag76pR3-uvIc"
      }
    },
    {
      "cell_type": "code",
      "source": [
        "#Filtros em Pandas\n",
        "#Usa-se .loc para que Pandas entenda que se está realizando filtros dentro de sua estrutura nas colunas especificadas\n",
        "print('Filtro aplicado em Pandas:\\n')\n",
        "display( df_diamonds_pd.loc[ df_diamonds_pd['color'] == 'E' ].head() )\n",
        "print('\\n')\n",
        "\n",
        "#Filtros em Polars\n",
        "#Usa-se o método filter e declara-se explicitamente com o .col as colunas desejadas, o formato de comparação booleana é padrão\n",
        "print('Filtro aplicado em Polars:\\n')\n",
        "display( df_diamons_pl.filter( (pl.col('color') == 'E') ).head() )"
      ],
      "metadata": {
        "colab": {
          "base_uri": "https://localhost:8080/",
          "height": 839
        },
        "id": "Aw8iNi_tsRFN",
        "outputId": "b453173d-f502-455f-c8c9-21ad4fb134b1"
      },
      "execution_count": 11,
      "outputs": [
        {
          "output_type": "stream",
          "name": "stdout",
          "text": [
            "Filtro aplicado em Pandas:\n",
            "\n"
          ]
        },
        {
          "output_type": "display_data",
          "data": {
            "text/plain": [
              "   Unnamed: 0    cut color clarity  carat_weight cut_quality  lab   symmetry  \\\n",
              "0           0  Round     E    VVS2          0.09   Excellent  IGI  Very Good   \n",
              "1           1  Round     E    VVS2          0.09   Very Good  IGI  Very Good   \n",
              "2           2  Round     E    VVS2          0.09   Excellent  IGI  Very Good   \n",
              "3           3  Round     E    VVS2          0.09   Excellent  IGI  Very Good   \n",
              "4           4  Round     E    VVS2          0.09   Very Good  IGI  Very Good   \n",
              "\n",
              "      polish eye_clean  ... meas_depth girdle_min  girdle_max  fluor_color  \\\n",
              "0  Very Good   unknown  ...       1.79          M           M      unknown   \n",
              "1  Very Good   unknown  ...       1.78        STK         STK      unknown   \n",
              "2  Very Good   unknown  ...       1.77         TN           M      unknown   \n",
              "3  Very Good   unknown  ...       1.78          M         STK      unknown   \n",
              "4  Excellent   unknown  ...       1.82        STK         STK      unknown   \n",
              "\n",
              "   fluor_intensity  fancy_color_dominant_color  fancy_color_secondary_color  \\\n",
              "0             None                     unknown                      unknown   \n",
              "1             None                     unknown                      unknown   \n",
              "2             None                     unknown                      unknown   \n",
              "3             None                     unknown                      unknown   \n",
              "4             None                     unknown                      unknown   \n",
              "\n",
              "  fancy_color_overtone fancy_color_intensity total_sales_price  \n",
              "0              unknown               unknown               200  \n",
              "1              unknown               unknown               200  \n",
              "2              unknown               unknown               200  \n",
              "3              unknown               unknown               200  \n",
              "4              unknown               unknown               200  \n",
              "\n",
              "[5 rows x 26 columns]"
            ],
            "text/html": [
              "\n",
              "  <div id=\"df-e8ed8389-97dc-4487-a127-d41158a28893\">\n",
              "    <div class=\"colab-df-container\">\n",
              "      <div>\n",
              "<style scoped>\n",
              "    .dataframe tbody tr th:only-of-type {\n",
              "        vertical-align: middle;\n",
              "    }\n",
              "\n",
              "    .dataframe tbody tr th {\n",
              "        vertical-align: top;\n",
              "    }\n",
              "\n",
              "    .dataframe thead th {\n",
              "        text-align: right;\n",
              "    }\n",
              "</style>\n",
              "<table border=\"1\" class=\"dataframe\">\n",
              "  <thead>\n",
              "    <tr style=\"text-align: right;\">\n",
              "      <th></th>\n",
              "      <th>Unnamed: 0</th>\n",
              "      <th>cut</th>\n",
              "      <th>color</th>\n",
              "      <th>clarity</th>\n",
              "      <th>carat_weight</th>\n",
              "      <th>cut_quality</th>\n",
              "      <th>lab</th>\n",
              "      <th>symmetry</th>\n",
              "      <th>polish</th>\n",
              "      <th>eye_clean</th>\n",
              "      <th>...</th>\n",
              "      <th>meas_depth</th>\n",
              "      <th>girdle_min</th>\n",
              "      <th>girdle_max</th>\n",
              "      <th>fluor_color</th>\n",
              "      <th>fluor_intensity</th>\n",
              "      <th>fancy_color_dominant_color</th>\n",
              "      <th>fancy_color_secondary_color</th>\n",
              "      <th>fancy_color_overtone</th>\n",
              "      <th>fancy_color_intensity</th>\n",
              "      <th>total_sales_price</th>\n",
              "    </tr>\n",
              "  </thead>\n",
              "  <tbody>\n",
              "    <tr>\n",
              "      <th>0</th>\n",
              "      <td>0</td>\n",
              "      <td>Round</td>\n",
              "      <td>E</td>\n",
              "      <td>VVS2</td>\n",
              "      <td>0.09</td>\n",
              "      <td>Excellent</td>\n",
              "      <td>IGI</td>\n",
              "      <td>Very Good</td>\n",
              "      <td>Very Good</td>\n",
              "      <td>unknown</td>\n",
              "      <td>...</td>\n",
              "      <td>1.79</td>\n",
              "      <td>M</td>\n",
              "      <td>M</td>\n",
              "      <td>unknown</td>\n",
              "      <td>None</td>\n",
              "      <td>unknown</td>\n",
              "      <td>unknown</td>\n",
              "      <td>unknown</td>\n",
              "      <td>unknown</td>\n",
              "      <td>200</td>\n",
              "    </tr>\n",
              "    <tr>\n",
              "      <th>1</th>\n",
              "      <td>1</td>\n",
              "      <td>Round</td>\n",
              "      <td>E</td>\n",
              "      <td>VVS2</td>\n",
              "      <td>0.09</td>\n",
              "      <td>Very Good</td>\n",
              "      <td>IGI</td>\n",
              "      <td>Very Good</td>\n",
              "      <td>Very Good</td>\n",
              "      <td>unknown</td>\n",
              "      <td>...</td>\n",
              "      <td>1.78</td>\n",
              "      <td>STK</td>\n",
              "      <td>STK</td>\n",
              "      <td>unknown</td>\n",
              "      <td>None</td>\n",
              "      <td>unknown</td>\n",
              "      <td>unknown</td>\n",
              "      <td>unknown</td>\n",
              "      <td>unknown</td>\n",
              "      <td>200</td>\n",
              "    </tr>\n",
              "    <tr>\n",
              "      <th>2</th>\n",
              "      <td>2</td>\n",
              "      <td>Round</td>\n",
              "      <td>E</td>\n",
              "      <td>VVS2</td>\n",
              "      <td>0.09</td>\n",
              "      <td>Excellent</td>\n",
              "      <td>IGI</td>\n",
              "      <td>Very Good</td>\n",
              "      <td>Very Good</td>\n",
              "      <td>unknown</td>\n",
              "      <td>...</td>\n",
              "      <td>1.77</td>\n",
              "      <td>TN</td>\n",
              "      <td>M</td>\n",
              "      <td>unknown</td>\n",
              "      <td>None</td>\n",
              "      <td>unknown</td>\n",
              "      <td>unknown</td>\n",
              "      <td>unknown</td>\n",
              "      <td>unknown</td>\n",
              "      <td>200</td>\n",
              "    </tr>\n",
              "    <tr>\n",
              "      <th>3</th>\n",
              "      <td>3</td>\n",
              "      <td>Round</td>\n",
              "      <td>E</td>\n",
              "      <td>VVS2</td>\n",
              "      <td>0.09</td>\n",
              "      <td>Excellent</td>\n",
              "      <td>IGI</td>\n",
              "      <td>Very Good</td>\n",
              "      <td>Very Good</td>\n",
              "      <td>unknown</td>\n",
              "      <td>...</td>\n",
              "      <td>1.78</td>\n",
              "      <td>M</td>\n",
              "      <td>STK</td>\n",
              "      <td>unknown</td>\n",
              "      <td>None</td>\n",
              "      <td>unknown</td>\n",
              "      <td>unknown</td>\n",
              "      <td>unknown</td>\n",
              "      <td>unknown</td>\n",
              "      <td>200</td>\n",
              "    </tr>\n",
              "    <tr>\n",
              "      <th>4</th>\n",
              "      <td>4</td>\n",
              "      <td>Round</td>\n",
              "      <td>E</td>\n",
              "      <td>VVS2</td>\n",
              "      <td>0.09</td>\n",
              "      <td>Very Good</td>\n",
              "      <td>IGI</td>\n",
              "      <td>Very Good</td>\n",
              "      <td>Excellent</td>\n",
              "      <td>unknown</td>\n",
              "      <td>...</td>\n",
              "      <td>1.82</td>\n",
              "      <td>STK</td>\n",
              "      <td>STK</td>\n",
              "      <td>unknown</td>\n",
              "      <td>None</td>\n",
              "      <td>unknown</td>\n",
              "      <td>unknown</td>\n",
              "      <td>unknown</td>\n",
              "      <td>unknown</td>\n",
              "      <td>200</td>\n",
              "    </tr>\n",
              "  </tbody>\n",
              "</table>\n",
              "<p>5 rows × 26 columns</p>\n",
              "</div>\n",
              "      <button class=\"colab-df-convert\" onclick=\"convertToInteractive('df-e8ed8389-97dc-4487-a127-d41158a28893')\"\n",
              "              title=\"Convert this dataframe to an interactive table.\"\n",
              "              style=\"display:none;\">\n",
              "        \n",
              "  <svg xmlns=\"http://www.w3.org/2000/svg\" height=\"24px\"viewBox=\"0 0 24 24\"\n",
              "       width=\"24px\">\n",
              "    <path d=\"M0 0h24v24H0V0z\" fill=\"none\"/>\n",
              "    <path d=\"M18.56 5.44l.94 2.06.94-2.06 2.06-.94-2.06-.94-.94-2.06-.94 2.06-2.06.94zm-11 1L8.5 8.5l.94-2.06 2.06-.94-2.06-.94L8.5 2.5l-.94 2.06-2.06.94zm10 10l.94 2.06.94-2.06 2.06-.94-2.06-.94-.94-2.06-.94 2.06-2.06.94z\"/><path d=\"M17.41 7.96l-1.37-1.37c-.4-.4-.92-.59-1.43-.59-.52 0-1.04.2-1.43.59L10.3 9.45l-7.72 7.72c-.78.78-.78 2.05 0 2.83L4 21.41c.39.39.9.59 1.41.59.51 0 1.02-.2 1.41-.59l7.78-7.78 2.81-2.81c.8-.78.8-2.07 0-2.86zM5.41 20L4 18.59l7.72-7.72 1.47 1.35L5.41 20z\"/>\n",
              "  </svg>\n",
              "      </button>\n",
              "      \n",
              "  <style>\n",
              "    .colab-df-container {\n",
              "      display:flex;\n",
              "      flex-wrap:wrap;\n",
              "      gap: 12px;\n",
              "    }\n",
              "\n",
              "    .colab-df-convert {\n",
              "      background-color: #E8F0FE;\n",
              "      border: none;\n",
              "      border-radius: 50%;\n",
              "      cursor: pointer;\n",
              "      display: none;\n",
              "      fill: #1967D2;\n",
              "      height: 32px;\n",
              "      padding: 0 0 0 0;\n",
              "      width: 32px;\n",
              "    }\n",
              "\n",
              "    .colab-df-convert:hover {\n",
              "      background-color: #E2EBFA;\n",
              "      box-shadow: 0px 1px 2px rgba(60, 64, 67, 0.3), 0px 1px 3px 1px rgba(60, 64, 67, 0.15);\n",
              "      fill: #174EA6;\n",
              "    }\n",
              "\n",
              "    [theme=dark] .colab-df-convert {\n",
              "      background-color: #3B4455;\n",
              "      fill: #D2E3FC;\n",
              "    }\n",
              "\n",
              "    [theme=dark] .colab-df-convert:hover {\n",
              "      background-color: #434B5C;\n",
              "      box-shadow: 0px 1px 3px 1px rgba(0, 0, 0, 0.15);\n",
              "      filter: drop-shadow(0px 1px 2px rgba(0, 0, 0, 0.3));\n",
              "      fill: #FFFFFF;\n",
              "    }\n",
              "  </style>\n",
              "\n",
              "      <script>\n",
              "        const buttonEl =\n",
              "          document.querySelector('#df-e8ed8389-97dc-4487-a127-d41158a28893 button.colab-df-convert');\n",
              "        buttonEl.style.display =\n",
              "          google.colab.kernel.accessAllowed ? 'block' : 'none';\n",
              "\n",
              "        async function convertToInteractive(key) {\n",
              "          const element = document.querySelector('#df-e8ed8389-97dc-4487-a127-d41158a28893');\n",
              "          const dataTable =\n",
              "            await google.colab.kernel.invokeFunction('convertToInteractive',\n",
              "                                                     [key], {});\n",
              "          if (!dataTable) return;\n",
              "\n",
              "          const docLinkHtml = 'Like what you see? Visit the ' +\n",
              "            '<a target=\"_blank\" href=https://colab.research.google.com/notebooks/data_table.ipynb>data table notebook</a>'\n",
              "            + ' to learn more about interactive tables.';\n",
              "          element.innerHTML = '';\n",
              "          dataTable['output_type'] = 'display_data';\n",
              "          await google.colab.output.renderOutput(dataTable, element);\n",
              "          const docLink = document.createElement('div');\n",
              "          docLink.innerHTML = docLinkHtml;\n",
              "          element.appendChild(docLink);\n",
              "        }\n",
              "      </script>\n",
              "    </div>\n",
              "  </div>\n",
              "  "
            ]
          },
          "metadata": {}
        },
        {
          "output_type": "stream",
          "name": "stdout",
          "text": [
            "\n",
            "\n",
            "Filtro aplicado em Polars:\n",
            "\n"
          ]
        },
        {
          "output_type": "display_data",
          "data": {
            "text/plain": [
              "shape: (5, 26)\n",
              "┌─────┬───────┬───────┬─────────┬───┬───────────────┬───────────────┬───────────────┬──────────────┐\n",
              "│     ┆ cut   ┆ color ┆ clarity ┆ … ┆ fancy_color_s ┆ fancy_color_o ┆ fancy_color_i ┆ total_sales_ │\n",
              "│ --- ┆ ---   ┆ ---   ┆ ---     ┆   ┆ econdary_colo ┆ vertone       ┆ ntensity      ┆ price        │\n",
              "│ i64 ┆ str   ┆ str   ┆ str     ┆   ┆ r             ┆ ---           ┆ ---           ┆ ---          │\n",
              "│     ┆       ┆       ┆         ┆   ┆ ---           ┆ str           ┆ str           ┆ i64          │\n",
              "│     ┆       ┆       ┆         ┆   ┆ str           ┆               ┆               ┆              │\n",
              "╞═════╪═══════╪═══════╪═════════╪═══╪═══════════════╪═══════════════╪═══════════════╪══════════════╡\n",
              "│ 0   ┆ Round ┆ E     ┆ VVS2    ┆ … ┆ unknown       ┆ unknown       ┆ unknown       ┆ 200          │\n",
              "│ 1   ┆ Round ┆ E     ┆ VVS2    ┆ … ┆ unknown       ┆ unknown       ┆ unknown       ┆ 200          │\n",
              "│ 2   ┆ Round ┆ E     ┆ VVS2    ┆ … ┆ unknown       ┆ unknown       ┆ unknown       ┆ 200          │\n",
              "│ 3   ┆ Round ┆ E     ┆ VVS2    ┆ … ┆ unknown       ┆ unknown       ┆ unknown       ┆ 200          │\n",
              "│ 4   ┆ Round ┆ E     ┆ VVS2    ┆ … ┆ unknown       ┆ unknown       ┆ unknown       ┆ 200          │\n",
              "└─────┴───────┴───────┴─────────┴───┴───────────────┴───────────────┴───────────────┴──────────────┘"
            ],
            "text/html": [
              "<div><style>\n",
              ".dataframe > thead > tr > th,\n",
              ".dataframe > tbody > tr > td {\n",
              "  text-align: right;\n",
              "}\n",
              "</style>\n",
              "<small>shape: (5, 26)</small><table border=\"1\" class=\"dataframe\"><thead><tr><th></th><th>cut</th><th>color</th><th>clarity</th><th>carat_weight</th><th>cut_quality</th><th>lab</th><th>symmetry</th><th>polish</th><th>eye_clean</th><th>culet_size</th><th>culet_condition</th><th>depth_percent</th><th>table_percent</th><th>meas_length</th><th>meas_width</th><th>meas_depth</th><th>girdle_min</th><th>girdle_max</th><th>fluor_color</th><th>fluor_intensity</th><th>fancy_color_dominant_color</th><th>fancy_color_secondary_color</th><th>fancy_color_overtone</th><th>fancy_color_intensity</th><th>total_sales_price</th></tr><tr><td>i64</td><td>str</td><td>str</td><td>str</td><td>f64</td><td>str</td><td>str</td><td>str</td><td>str</td><td>str</td><td>str</td><td>str</td><td>f64</td><td>f64</td><td>f64</td><td>f64</td><td>f64</td><td>str</td><td>str</td><td>str</td><td>str</td><td>str</td><td>str</td><td>str</td><td>str</td><td>i64</td></tr></thead><tbody><tr><td>0</td><td>&quot;Round&quot;</td><td>&quot;E&quot;</td><td>&quot;VVS2&quot;</td><td>0.09</td><td>&quot;Excellent&quot;</td><td>&quot;IGI&quot;</td><td>&quot;Very Good&quot;</td><td>&quot;Very Good&quot;</td><td>&quot;unknown&quot;</td><td>&quot;N&quot;</td><td>&quot;unknown&quot;</td><td>62.7</td><td>59.0</td><td>2.85</td><td>2.87</td><td>1.79</td><td>&quot;M&quot;</td><td>&quot;M&quot;</td><td>&quot;unknown&quot;</td><td>&quot;None&quot;</td><td>&quot;unknown&quot;</td><td>&quot;unknown&quot;</td><td>&quot;unknown&quot;</td><td>&quot;unknown&quot;</td><td>200</td></tr><tr><td>1</td><td>&quot;Round&quot;</td><td>&quot;E&quot;</td><td>&quot;VVS2&quot;</td><td>0.09</td><td>&quot;Very Good&quot;</td><td>&quot;IGI&quot;</td><td>&quot;Very Good&quot;</td><td>&quot;Very Good&quot;</td><td>&quot;unknown&quot;</td><td>&quot;N&quot;</td><td>&quot;unknown&quot;</td><td>61.9</td><td>59.0</td><td>2.84</td><td>2.89</td><td>1.78</td><td>&quot;STK&quot;</td><td>&quot;STK&quot;</td><td>&quot;unknown&quot;</td><td>&quot;None&quot;</td><td>&quot;unknown&quot;</td><td>&quot;unknown&quot;</td><td>&quot;unknown&quot;</td><td>&quot;unknown&quot;</td><td>200</td></tr><tr><td>2</td><td>&quot;Round&quot;</td><td>&quot;E&quot;</td><td>&quot;VVS2&quot;</td><td>0.09</td><td>&quot;Excellent&quot;</td><td>&quot;IGI&quot;</td><td>&quot;Very Good&quot;</td><td>&quot;Very Good&quot;</td><td>&quot;unknown&quot;</td><td>&quot;unknown&quot;</td><td>&quot;unknown&quot;</td><td>61.1</td><td>59.0</td><td>2.88</td><td>2.9</td><td>1.77</td><td>&quot;TN&quot;</td><td>&quot;M&quot;</td><td>&quot;unknown&quot;</td><td>&quot;None&quot;</td><td>&quot;unknown&quot;</td><td>&quot;unknown&quot;</td><td>&quot;unknown&quot;</td><td>&quot;unknown&quot;</td><td>200</td></tr><tr><td>3</td><td>&quot;Round&quot;</td><td>&quot;E&quot;</td><td>&quot;VVS2&quot;</td><td>0.09</td><td>&quot;Excellent&quot;</td><td>&quot;IGI&quot;</td><td>&quot;Very Good&quot;</td><td>&quot;Very Good&quot;</td><td>&quot;unknown&quot;</td><td>&quot;unknown&quot;</td><td>&quot;unknown&quot;</td><td>62.0</td><td>59.0</td><td>2.86</td><td>2.88</td><td>1.78</td><td>&quot;M&quot;</td><td>&quot;STK&quot;</td><td>&quot;unknown&quot;</td><td>&quot;None&quot;</td><td>&quot;unknown&quot;</td><td>&quot;unknown&quot;</td><td>&quot;unknown&quot;</td><td>&quot;unknown&quot;</td><td>200</td></tr><tr><td>4</td><td>&quot;Round&quot;</td><td>&quot;E&quot;</td><td>&quot;VVS2&quot;</td><td>0.09</td><td>&quot;Very Good&quot;</td><td>&quot;IGI&quot;</td><td>&quot;Very Good&quot;</td><td>&quot;Excellent&quot;</td><td>&quot;unknown&quot;</td><td>&quot;N&quot;</td><td>&quot;unknown&quot;</td><td>64.9</td><td>58.5</td><td>2.79</td><td>2.83</td><td>1.82</td><td>&quot;STK&quot;</td><td>&quot;STK&quot;</td><td>&quot;unknown&quot;</td><td>&quot;None&quot;</td><td>&quot;unknown&quot;</td><td>&quot;unknown&quot;</td><td>&quot;unknown&quot;</td><td>&quot;unknown&quot;</td><td>200</td></tr></tbody></table></div>"
            ]
          },
          "metadata": {}
        }
      ]
    },
    {
      "cell_type": "markdown",
      "source": [
        "Na realização de Filtros, Polars segue um caminho mais explícito e legível do que o Pandas.\n",
        "\n",
        "Enquanto em Pandas utiliza-se o versátil e muito conhecido '.loc' para filtrar (uma alternativa menos popular é o '.query', mas decidi mostrar apenas a mais conhecida), Polars utiliza um método explícito no nome 'filter' e explícito na chamada das colunas 'pl.col()' que melhora a legibilidade do código e pode ajudar em filtros complexos que exigem muitos parâmetros. "
      ],
      "metadata": {
        "id": "7HwPdOSEyIwh"
      }
    },
    {
      "cell_type": "markdown",
      "source": [
        "###Agregações"
      ],
      "metadata": {
        "id": "K5eUmyz_y8ZF"
      }
    },
    {
      "cell_type": "code",
      "source": [
        "#GroupBy em Pandas\n",
        "print('GroupBy em Pandas somando o valor de venda agrupado pela cor dos diamantes:\\n')\n",
        "display( df_diamonds_pd.groupby(by=['color'])['total_sales_price'].sum() )\n",
        "print('\\n')\n",
        "\n",
        "#GroupBy em Polars\n",
        "print('GroupBy em Polars somando o valor de venda agrupado pela cor dos diamantes:\\n')\n",
        "display( df_diamons_pl.groupby('color', maintain_order=True).agg([pl.col('total_sales_price').sum().alias('Soma das vendas')]) )"
      ],
      "metadata": {
        "colab": {
          "base_uri": "https://localhost:8080/",
          "height": 757
        },
        "id": "kxNmNrlhx_OD",
        "outputId": "8fbef997-b8c9-40b9-d4e5-e20d25db6241"
      },
      "execution_count": 10,
      "outputs": [
        {
          "output_type": "stream",
          "name": "stdout",
          "text": [
            "GroupBy em Pandas somando o valor de venda agrupado pela cor dos diamantes:\n",
            "\n"
          ]
        },
        {
          "output_type": "display_data",
          "data": {
            "text/plain": [
              "color\n",
              "D          193331883\n",
              "E          176157297\n",
              "F          176876733\n",
              "G          208867843\n",
              "H          198105869\n",
              "I          153268502\n",
              "J          109653533\n",
              "K           73801718\n",
              "L           33808678\n",
              "M           18243074\n",
              "unknown    175606861\n",
              "Name: total_sales_price, dtype: int64"
            ]
          },
          "metadata": {}
        },
        {
          "output_type": "stream",
          "name": "stdout",
          "text": [
            "GroupBy em Polars somando o valor de venda agrupado pela cor dos diamantes:\n",
            "\n"
          ]
        },
        {
          "output_type": "display_data",
          "data": {
            "text/plain": [
              "shape: (11, 2)\n",
              "┌─────────┬─────────────────┐\n",
              "│ color   ┆ Soma das vendas │\n",
              "│ ---     ┆ ---             │\n",
              "│ str     ┆ i64             │\n",
              "╞═════════╪═════════════════╡\n",
              "│ J       ┆ 109653533       │\n",
              "│ D       ┆ 193331883       │\n",
              "│ F       ┆ 176876733       │\n",
              "│ I       ┆ 153268502       │\n",
              "│ …       ┆ …               │\n",
              "│ unknown ┆ 175606861       │\n",
              "│ G       ┆ 208867843       │\n",
              "│ K       ┆ 73801718        │\n",
              "│ M       ┆ 18243074        │\n",
              "└─────────┴─────────────────┘"
            ],
            "text/html": [
              "<div><style>\n",
              ".dataframe > thead > tr > th,\n",
              ".dataframe > tbody > tr > td {\n",
              "  text-align: right;\n",
              "}\n",
              "</style>\n",
              "<small>shape: (11, 2)</small><table border=\"1\" class=\"dataframe\"><thead><tr><th>color</th><th>Soma das vendas</th></tr><tr><td>str</td><td>i64</td></tr></thead><tbody><tr><td>&quot;J&quot;</td><td>109653533</td></tr><tr><td>&quot;D&quot;</td><td>193331883</td></tr><tr><td>&quot;F&quot;</td><td>176876733</td></tr><tr><td>&quot;I&quot;</td><td>153268502</td></tr><tr><td>&quot;H&quot;</td><td>198105869</td></tr><tr><td>&quot;L&quot;</td><td>33808678</td></tr><tr><td>&quot;E&quot;</td><td>176157297</td></tr><tr><td>&quot;unknown&quot;</td><td>175606861</td></tr><tr><td>&quot;G&quot;</td><td>208867843</td></tr><tr><td>&quot;K&quot;</td><td>73801718</td></tr><tr><td>&quot;M&quot;</td><td>18243074</td></tr></tbody></table></div>"
            ]
          },
          "metadata": {}
        }
      ]
    },
    {
      "cell_type": "markdown",
      "source": [
        "Para agrupamentos as duas bibliotecas tem o método chamado 'groupby'. \n",
        "\n",
        "Por um lado em Pandas se explicita apenas com uma _string_ do nome da coluna qual(is) colunas deseja-se agrupar e em seguida utiliza-se o colchetes para realizar o cálculo nas colunas apenas declarando seu nome e depois o nome do cálculo (no exemplo .sum()). **Importante: Os resultados são apresentados na ordem da coluna que foi agrupada.**\n",
        "\n",
        "Já em Polars o método se torna um pouco mais longo pelo foco no explícito do método. Assim como no Pandas, declara-se a coluna que se quer agrupar como uma _string_ do nome da coluna. Em seguida, utiliza-se o método '.agg' e novamente com o 'pl.col()' coloca-se agora qual coluna se quer performar os cálculos e em seguida declara-se o método do cálculo desejado (no exemplo .sum()). Uma diferença para o Pandas é por dar um nome para a coluna calculada (assim como em SQL) com o método '.alias()'.\n",
        "**Importante: Em Polars a ordem do retorno do dataframe agrupado é aleatória, caso queira-se manter a ordem deve-se declarar 'maintain_order = True'.**"
      ],
      "metadata": {
        "id": "21KhnjVi0vTJ"
      }
    },
    {
      "cell_type": "markdown",
      "source": [
        "###Conclusão"
      ],
      "metadata": {
        "id": "-_NsRjki3sIr"
      }
    },
    {
      "cell_type": "markdown",
      "source": [
        "Em suma, as duas bibliotecas tem a mesma intenção, te permitir analisar dados com rapidez e de forma simples orientada a obter resultados rápidos. No entanto, Polars surge como uma alternativa para a já consolidada Pandas com mudanças para a orientação aos Dados dando mais detalhamento e permitindo obter estatísticas simples sobre os dados de forma rápida, além disso bebe fortemente em SQL para definir seus métodos e sintaxe.\n",
        "\n",
        "Um outro ponto aqui não tão explorado, é a inovação da biblioteca Polars ao utilizar Pyarrow para o processamento de dados o que o deixa mais rápido e diminui em muito o consumo de memória, um calcanhar de aquiles bem conhecido em Pandas (que tenta ser resolvido com o recente lançamento do Pandas 2.0).\n",
        "\n",
        "Para mais detalhes sobre o Polars acesse a documentação completa em:\n",
        "\n",
        "https://pola-rs.github.io/polars-book/user-guide/introduction.html"
      ],
      "metadata": {
        "id": "0YEksR0w3_Iw"
      }
    }
  ]
}