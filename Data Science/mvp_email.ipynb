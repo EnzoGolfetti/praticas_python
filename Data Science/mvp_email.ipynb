{
 "cells": [
  {
   "cell_type": "code",
   "execution_count": 57,
   "id": "f508de51",
   "metadata": {},
   "outputs": [],
   "source": [
    "#bibliotecas necessárias\n",
    "import smtplib as sm\n",
    "from email.mime.multipart import MIMEMultipart\n",
    "from email.mime.text import MIMEText"
   ]
  },
  {
   "cell_type": "code",
   "execution_count": 123,
   "id": "d8849960",
   "metadata": {},
   "outputs": [],
   "source": [
    "#Fazer login no smtp do Google\n",
    "# link para verificar a porta caso ela mude https://support.google.com/a/answer/176600?hl=pt-BR\n",
    "myfile = open('e-mail1.txt')\n",
    "myfile2 = open('pwd1.txt')\n",
    "with myfile and myfile2:\n",
    "    host = 'smtp.gmail.com'\n",
    "    port = 587\n",
    "    user = myfile.read()\n",
    "    pwd = myfile2.read()\n",
    "\n",
    "server = sm.SMTP(host, port)"
   ]
  },
  {
   "cell_type": "code",
   "execution_count": 76,
   "id": "5d554376",
   "metadata": {},
   "outputs": [],
   "source": [
    "#dados do e-mail\n",
    "msg = \"\"\"Olá segue o link para verificação dos dados de hoje da DigitalTech\n",
    "https://drive.google.com/drive/u/3/my-drive\"\"\"\n",
    "remet = 'enzo.golfetti04@gmail.com'\n",
    "assunto = 'Teste2'"
   ]
  },
  {
   "cell_type": "code",
   "execution_count": 124,
   "id": "e5757652",
   "metadata": {},
   "outputs": [
    {
     "data": {
      "text/plain": [
       "(235, b'2.7.0 Accepted')"
      ]
     },
     "execution_count": 124,
     "metadata": {},
     "output_type": "execute_result"
    }
   ],
   "source": [
    "#ativando o layer security e o login\n",
    "#é necessário que o e-mail esteja configurado para acessar apps menos seguras\n",
    "server.ehlo()\n",
    "server.starttls()\n",
    "server.login(user, password)"
   ]
  },
  {
   "cell_type": "code",
   "execution_count": 60,
   "id": "8b36496b",
   "metadata": {},
   "outputs": [],
   "source": [
    "#configurando a estrutura do e-mail\n",
    "email_msg = MIMEMultipart()\n",
    "email_msg['From'] = user\n",
    "email_msg['To'] = remet\n",
    "email_msg['Subject'] = assunto\n",
    "\n",
    "email_msg.attach(MIMEText(msg, 'plain'))"
   ]
  },
  {
   "cell_type": "code",
   "execution_count": 61,
   "id": "715796d2",
   "metadata": {},
   "outputs": [
    {
     "data": {
      "text/plain": [
       "(221, b'2.0.0 closing connection d12sm2564607qkn.126 - gsmtp')"
      ]
     },
     "execution_count": 61,
     "metadata": {},
     "output_type": "execute_result"
    }
   ],
   "source": [
    "server.sendmail(email_msg['From'], email_msg['To'], email_msg.as_string())\n",
    "server.quit()"
   ]
  },
  {
   "cell_type": "code",
   "execution_count": null,
   "id": "20969ebe",
   "metadata": {},
   "outputs": [],
   "source": []
  }
 ],
 "metadata": {
  "kernelspec": {
   "display_name": "Python 3",
   "language": "python",
   "name": "python3"
  },
  "language_info": {
   "codemirror_mode": {
    "name": "ipython",
    "version": 3
   },
   "file_extension": ".py",
   "mimetype": "text/x-python",
   "name": "python",
   "nbconvert_exporter": "python",
   "pygments_lexer": "ipython3",
   "version": "3.8.3"
  }
 },
 "nbformat": 4,
 "nbformat_minor": 5
}
